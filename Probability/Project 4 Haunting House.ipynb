{
 "metadata": {
  "language_info": {
   "codemirror_mode": {
    "name": "ipython",
    "version": 3
   },
   "file_extension": ".py",
   "mimetype": "text/x-python",
   "name": "python",
   "nbconvert_exporter": "python",
   "pygments_lexer": "ipython3",
   "version": "3.8.3"
  },
  "orig_nbformat": 4,
  "kernelspec": {
   "name": "python3",
   "display_name": "Python 3.8.3 64-bit ('base': conda)"
  },
  "interpreter": {
   "hash": "5ce8f7e1a65270a9a52111c8281a701c62f24038c5333d6712e533aaa6ddee7b"
  }
 },
 "nbformat": 4,
 "nbformat_minor": 2,
 "cells": [
  {
   "source": [
    "# Project 4 Haunting House"
   ],
   "cell_type": "markdown",
   "metadata": {}
  },
  {
   "cell_type": "code",
   "execution_count": 3,
   "metadata": {},
   "outputs": [],
   "source": [
    "import numpy as np"
   ]
  },
  {
   "cell_type": "code",
   "execution_count": 33,
   "metadata": {},
   "outputs": [],
   "source": [
    "DOORS=7"
   ]
  },
  {
   "source": [
    "# With an scared Ghost"
   ],
   "cell_type": "markdown",
   "metadata": {}
  },
  {
   "cell_type": "code",
   "execution_count": 36,
   "metadata": {},
   "outputs": [
    {
     "output_type": "stream",
     "name": "stdout",
     "text": [
      "1 )  Probability of bad ghost on each door:\n",
      "\t [0.14285714285714285, 0.14285714285714285, 0.14285714285714285, 0.14285714285714285, 0.14285714285714285, 0.14285714285714285, 0.14285714285714285]\n",
      "\tGhost selected:  4\n",
      "2 )  Probability of bad ghost on each door:\n",
      "\t [0.2, 0, 0.2, 0.2, 0, 0.2, 0.2]\n",
      "\tGhost selected:  3\n",
      "3 )  Probability of bad ghost on each door:\n",
      "\t [0.25, 0, 0.25, 0, 0, 0.25, 0.25]\n",
      "\tGhost selected:  2\n",
      "4 )  Probability of bad ghost on each door:\n",
      "\t [0.3333333333333333, 0, 0, 0, 0, 0.3333333333333333, 0.3333333333333333]\n",
      "\tGhost selected:  2\n",
      "5 )  Probability of bad ghost on each door:\n",
      "\t [0, 0, 0, 0, 0, 0.5, 0.5]\n",
      "Found\n"
     ]
    }
   ],
   "source": [
    "found=False\n",
    "badGhostDoor=np.random.randint(0,DOORS)\n",
    "state=list(range(0,DOORS))\n",
    "state.remove(badGhostDoor)\n",
    "probabilities=[1/DOORS]*DOORS\n",
    "turn=1\n",
    "while not found:\n",
    "    print(turn,\") \",\"Probability of bad ghost on each door:\")\n",
    "    print(\"\\t\",probabilities)\n",
    "    selectedDoor=int(input(\"\\tSelect a door: \"))\n",
    "    probabilities[selectedDoor]=0\n",
    "    if(selectedDoor==badGhostDoor):\n",
    "        print(\"Found\")\n",
    "        found=True\n",
    "        break\n",
    "    goodGhost=np.random.choice(state)\n",
    "    print(\"\\tGhost selected: \",goodGhost)\n",
    "    probabilities[goodGhost]=0\n",
    "    P=1/(DOORS-probabilities.count(0))\n",
    "    probabilities=[P if p>0 else 0 for p in probabilities]\n",
    "    turn+=1"
   ]
  },
  {
   "source": [
    "# With a brave ghost"
   ],
   "cell_type": "markdown",
   "metadata": {}
  },
  {
   "cell_type": "code",
   "execution_count": 37,
   "metadata": {},
   "outputs": [
    {
     "output_type": "stream",
     "name": "stdout",
     "text": [
      "1 )  Probability of bad ghost on each door:\n",
      "\t [0.14285714285714285, 0.14285714285714285, 0.14285714285714285, 0.14285714285714285, 0.14285714285714285, 0.14285714285714285, 0.14285714285714285]\n",
      "\tGhost selected:  2\n",
      "2 )  Probability of bad ghost on each door:\n",
      "\t [0, 0.16666666666666666, 0.16666666666666666, 0.16666666666666666, 0.16666666666666666, 0.16666666666666666, 0.16666666666666666]\n",
      "\tGhost selected:  5\n",
      "3 )  Probability of bad ghost on each door:\n",
      "\t [0, 0.2, 0, 0.2, 0.2, 0.2, 0.2]\n",
      "\tGhost selected:  0\n",
      "4 )  Probability of bad ghost on each door:\n",
      "\t [0, 0.25, 0, 0.25, 0.25, 0, 0.25]\n",
      "\tGhost selected:  6\n",
      "5 )  Probability of bad ghost on each door:\n",
      "\t [0, 0, 0, 0.3333333333333333, 0.3333333333333333, 0, 0.3333333333333333]\n",
      "\tGhost selected:  6\n",
      "6 )  Probability of bad ghost on each door:\n",
      "\t [0, 0, 0, 0.5, 0.5, 0, 0]\n",
      "\tGhost selected:  3\n",
      "7 )  Probability of bad ghost on each door:\n",
      "\t [0, 0, 0, 0.5, 0.5, 0, 0]\n",
      "Found\n"
     ]
    }
   ],
   "source": [
    "found=False\n",
    "badGhostDoor=np.random.randint(0,DOORS)\n",
    "state=list(range(0,DOORS))\n",
    "probabilities=[1/DOORS]*DOORS\n",
    "turn=1\n",
    "while not found:\n",
    "    print(turn,\") \",\"Probability of bad ghost on each door:\")\n",
    "    print(\"\\t\",probabilities)\n",
    "    selectedDoor=int(input(\"\\tSelect a door: \"))\n",
    "    probabilities[selectedDoor]=0\n",
    "    if(selectedDoor==badGhostDoor):\n",
    "        print(\"Found\")\n",
    "        found=True\n",
    "        break\n",
    "    goodGhost=np.random.choice(state)\n",
    "    print(\"\\tGhost selected: \",goodGhost)\n",
    "    P=1/(DOORS-probabilities.count(0))\n",
    "    probabilities=[P if p>0 else 0 for p in probabilities]\n",
    "    turn+=1"
   ]
  },
  {
   "cell_type": "code",
   "execution_count": null,
   "metadata": {},
   "outputs": [],
   "source": []
  }
 ]
}