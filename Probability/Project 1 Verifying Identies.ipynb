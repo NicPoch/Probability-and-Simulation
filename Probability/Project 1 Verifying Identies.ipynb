{
 "metadata": {
  "language_info": {
   "codemirror_mode": {
    "name": "ipython",
    "version": 3
   },
   "file_extension": ".py",
   "mimetype": "text/x-python",
   "name": "python",
   "nbconvert_exporter": "python",
   "pygments_lexer": "ipython3",
   "version": "3.8.3"
  },
  "orig_nbformat": 4,
  "kernelspec": {
   "name": "python3",
   "display_name": "Python 3.8.3 64-bit ('base': conda)"
  },
  "interpreter": {
   "hash": "5ce8f7e1a65270a9a52111c8281a701c62f24038c5333d6712e533aaa6ddee7b"
  }
 },
 "nbformat": 4,
 "nbformat_minor": 2,
 "cells": [
  {
   "source": [
    "# Verifying Identies"
   ],
   "cell_type": "markdown",
   "metadata": {}
  },
  {
   "cell_type": "code",
   "execution_count": 1,
   "metadata": {},
   "outputs": [],
   "source": [
    "import numpy as np"
   ]
  },
  {
   "cell_type": "code",
   "execution_count": 3,
   "metadata": {},
   "outputs": [],
   "source": [
    "def verifyID(F,G,d,k,a):\n",
    "    probID=(1/(10**k))**a\n",
    "    for i in range(a):\n",
    "        r=np.random.randint(low=1,high=(10**k)*d)\n",
    "        if F(r)==G(r):\n",
    "            pass\n",
    "        else:\n",
    "            return False,probID\n",
    "    return True,probID"
   ]
  },
  {
   "cell_type": "code",
   "execution_count": 4,
   "metadata": {},
   "outputs": [],
   "source": [
    "F=lambda x : (x-5)*(x-10)*(x+3)*(x-2)*(x+25)\n",
    "G=lambda x : (x**5)+(11*(x**4))-(321*(x**3))+(865*(x**2))-(3200*x)-7500"
   ]
  },
  {
   "cell_type": "code",
   "execution_count": 5,
   "metadata": {},
   "outputs": [
    {
     "output_type": "execute_result",
     "data": {
      "text/plain": [
       "(False, 1.0000000000000003e-30)"
      ]
     },
     "metadata": {},
     "execution_count": 5
    }
   ],
   "source": [
    "verifyID(F,G,5,3,10)"
   ]
  },
  {
   "cell_type": "code",
   "execution_count": null,
   "metadata": {},
   "outputs": [],
   "source": [
    "g"
   ]
  }
 ]
}